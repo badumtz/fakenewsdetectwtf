{
  "nbformat": 4,
  "nbformat_minor": 0,
  "metadata": {
    "colab": {
      "provenance": [],
      "authorship_tag": "ABX9TyNZxSkZ2aWUB0MSDngSzJ7d",
      "include_colab_link": true
    },
    "kernelspec": {
      "name": "python3",
      "display_name": "Python 3"
    },
    "language_info": {
      "name": "python"
    }
  },
  "cells": [
    {
      "cell_type": "markdown",
      "metadata": {
        "id": "view-in-github",
        "colab_type": "text"
      },
      "source": [
        "<a href=\"https://colab.research.google.com/github/badumtz/fakenewsdetectwtf/blob/master/Untitled1.ipynb\" target=\"_parent\"><img src=\"https://colab.research.google.com/assets/colab-badge.svg\" alt=\"Open In Colab\"/></a>"
      ]
    },
    {
      "cell_type": "code",
      "execution_count": null,
      "metadata": {
        "id": "Gu5OCFPMB9Z5"
      },
      "outputs": [],
      "source": [
        "import numpy as np\n",
        "import pandas as pd\n",
        "import json\n",
        "import csv\n",
        "import random\n",
        "\n",
        "from tensorflow.keras.preprocessing.text import Tokenizer\n",
        "from tensorflow.keras.preprocessing.sequence import pad_sequences\n",
        "from tensorflow.keras.utils import to_categorical\n",
        "from tensorflow.keras import regularizers\n",
        "\n",
        "import pprint\n",
        "import tensorflow.compat.v1 as tf\n",
        "from tensorflow.python.framework import ops\n",
        "from sklearn.model_selection import train_test_split\n",
        "from sklearn import preprocessing\n",
        "tf.disable_eager_execution()\n",
        "\n",
        "# Reading the data\n",
        "data = pd.read_csv(\"news.csv\")\n",
        "data = data.drop([\"Unnamed: 0\"], axis=1)\n",
        "le= preprocessing.LabelEncoder()\n",
        "le.fit(data['label'])\n",
        "data['label'] = le.transform(data['label'])\n",
        "\n",
        "\n",
        "embeddin_dim= 50\n",
        "max_length= 54\n",
        "trunc_type= 'post'\n",
        "padding = 'post'\n",
        "oov= \"<OOV>\"\n",
        "trainigsz= 3000\n",
        "test= .1\n",
        "title=[]\n",
        "text=[]\n",
        "labels=[]\n",
        "for x in range(trainigsz):\n",
        "  title.append(data['title'][x])\n",
        "  text.append(data['text'][x])\n",
        "  labels.append(data['label'][x])\n",
        "\n",
        "tokenizer1= Tokenizer()\n",
        "tokenizer1.fit_on_texts(title)\n",
        "word1= tokenizer1_word_index\n",
        "vocabsz1= len(word1)\n",
        "seq1= tokenizer1.text_to_sequences(title)\n",
        "padded1= pad_sequences(\n",
        "    seq1, padding=padding_type, truncating=trunc_type\n",
        ")\n",
        "split = int(test_portion* trainigsz)\n",
        "trainig_seq1= padded1[split:trainigsz]\n",
        "test_seq1= padded[0:split]\n",
        "test_labels = labels[0:split]\n",
        "training_labels= labels[split:trainigsz]\n"
      ]
    }
  ]
}